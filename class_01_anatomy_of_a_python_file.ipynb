{
 "cells": [
  {
   "cell_type": "markdown",
   "metadata": {},
   "source": [
    "# *The Anatomy Of A Python File*\n",
    "--------------------\n",
    "\n",
    "The purpose of this notebook is to explain the layout and major components of a Python file in order to gain familiarity with already written Python material.  After completing this review, one should be able to identify what each section of a Python file is meant to accomplish.  This will help if you are asked to edit an existing algorithm within a section of code or to add a single element to an existing file.  The framework will also be established for creating new files with the appropriate architecture for the task.  All Python files are organized into:\n",
    "\n",
    "* [Top of the file - Imports](#Top-Of-The-File---<em>Importing-Packges<%2Fem>)\n",
    "* [Middle of the file - Functions / Classes / Variables / etc.](#Middle-of-the-file---<em>variables%2C-functions%2C-classes<%2Fem>)\n",
    "* [End of the file - `__main__` (optional)](#End-Of-A-File---<em>The-<code>__main__<%2Fcode>-function<%2Fem>-(optional))\n",
    "\n",
    "\n",
    "## Python Packages\n",
    "\n",
    "Python packages are collections of Python files that provide capabilities and functions for other Python files to use.  In order to support the inclusion of third-party packages, all Python packages must be explicitly included by the Python file to utilize the features within the file.\n",
    "\n",
    "The python language has a lot of built-in functionality for performing tasks from file manipulation to running sub-processes.  In order to include the functionality in a python file, a \"package\" (collection of features) that includes the features must be \"imported\" by name before using the feature.\n",
    "\n",
    "## Installing packages\n",
    "\n",
    "The importing of packages is required to include functionality that is \"built-in\" to the standard python install as well as \"third-party\" packages that are downloaded from the internet or installed via a package manager (such as \"pip\" or \"conda\") via:\n",
    "\n",
    "`pip install requests`\n",
    "\n",
    "or \n",
    "\n",
    "`conda install requests`\n",
    "\n",
    "## Python Standard Library\n",
    "\n",
    "The python standard install comes with >100 packages that cover many uses cases of a typical python program.  These are well documented online at <https://docs.python.org/3/library/>.\n",
    "\n",
    "## Python Package Index (PyPI)\n",
    "\n",
    "While the standard library comes with many helpful packages to improve the ease of coding, the real power of the Python ecosystem is the plethora of incredibly useful third-party packages online.  That is why Python is often referred to the \"batteries-included\" language because if there is something that you need to do, there is probably already a package that performs that task.  Before starting a project from scratch, try googling the solution for packages that might accomplish the task.  The central location for these packages is the [Python Package Index (PyPI)](https://pypi.org/) (pronounced pie-pee-eye).  This index is managed by the [Python Software Foundation (PSF)](https://www.python.org/psf/) which manages the default C-Python implementation of Python <https://www.python.org/downloads/>.\n",
    "\n",
    "There are currently (as of March 01, 2019) 170,000+ third-party packages on the PyPI website and many more added every day.  The PyPI organization manages the pip application that is installed with the default Python installation.  This application will download and install all of the dependencies of any package with the simple command:\n",
    "\n",
    "`pip install <package>`\n",
    "\n",
    "This is the default way to add packages and functionality when you have connection to the internet and are starting a small project.\n",
    "\n",
    "If a certain file or set of files in a project requires many different packages, a \"requirements.txt\" file can be created that lists all required packages and optionally a specific version of the packages.  Then, to install the packages, one could install all the packages in a single command:\n",
    "\n",
    "`pip install -r requirements.txt`\n",
    "\n",
    "## Conda build environment\n",
    "\n",
    "The PyPI ecosystem provides an incredible set of *free* features available to all developers, however there are some limitations to the system.  The process for installing a package using pip involves downloading the source and building the packages from scratch if C/C++ extensions are involved.  This means that the PC on which the package is being installed must include all of the necessary compilers and extensions necessary to build the package.  The cycle of dependencies can often lead to the inability to build and install packages on a certain system.  The PyPI system also requires access to the internet to download the packages that are available and mirroring all of the 170,000+ packages on a local system is a non-starter.\n",
    "\n",
    "The [Anaconda](https://anaconda.org/) toolset was created by the data analysis developers of Python to provide a solution to this problem.  Anaconda, the company, releases a set of third-party packages pre-compiled and built for multiple different target systems and architectures.  Each version of the Anaconda release comes with ~200 packages that are installed with a single installer and are guaranteed to be compatible.  This simplifies the installation and repeatability of distributing a set of Python packages.  Another benefit is that all of the individually versioned packages are now bundled into one versioned product that can be referenced in perpetuity.    \n",
    "\n",
    "The original target market for the Anaconda distribution was the data-analysis and data-science developers that may not necessarily be savy in the software architecture domain.  A simpler single installer provided a common method for getting started.  All of the Matlab equivalent capabilities and packages are included in the Anaconda installer and is the recommended starting point for people new to data analysis in Python.\n",
    "\n",
    "The Anaconda environment is controlled in a very similar fashion as pip and additional packages can be installed via the conda command:\n",
    "\n",
    "`conda install <package>`\n",
    "\n",
    "or \n",
    "\n",
    "`conda install --file requirements.txt`\n",
    "\n",
    "For a list of all the packages installed see the command below\n"
   ]
  },
  {
   "cell_type": "code",
   "execution_count": 1,
   "metadata": {},
   "outputs": [
    {
     "name": "stdout",
     "output_type": "stream",
     "text": [
      "# packages in environment at C:\\Users\\matth\\Anaconda3:\n",
      "#\n",
      "# Name                    Version                   Build  Channel\n",
      "_ipyw_jlab_nb_ext_conf    0.1.0            py36he6757f0_0  \n",
      "alabaster                 0.7.10           py36hcd07829_0  \n",
      "altgraph                  0.15                       py_0    conda-forge\n",
      "anaconda                  5.0.1            py36h8316230_2  \n",
      "anaconda-client           1.6.5            py36hd36550c_0  \n",
      "anaconda-navigator        1.6.9            py36hc720852_0  \n",
      "anaconda-project          0.8.0            py36h8b3bf89_0  \n",
      "arrow                     0.12.1                py36_1002    conda-forge\n",
      "asn1crypto                0.22.0           py36h8e79faa_1  \n",
      "astroid                   1.5.3            py36h9d85297_0  \n",
      "astropy                   2.0.2            py36h06391c4_4  \n",
      "babel                     2.5.0            py36h35444c1_0  \n",
      "backports                 1.0              py36h81696a8_1  \n",
      "backports.shutil_get_terminal_size 1.0.0            py36h79ab834_2  \n",
      "beautifulsoup4            4.6.0            py36hd4cc5e8_1  \n",
      "binaryornot               0.4.4                      py_1    conda-forge\n",
      "bitarray                  0.8.1            py36h6af124b_0  \n",
      "bkcharts                  0.2              py36h7e685f7_0  \n",
      "blaze                     0.11.3           py36h8a29ca5_0  \n",
      "bleach                    2.0.0            py36h0a7e3d6_0  \n",
      "bokeh                     0.12.10          py36h0be3b39_0  \n",
      "boto                      2.48.0           py36h1a776d2_1  \n",
      "boto3                     1.9.43                    <pip>\n",
      "botocore                  1.12.43                   <pip>\n",
      "bottleneck                1.2.1            py36hd119dfa_0  \n",
      "briefcase                 0.2.8                     <pip>\n",
      "bzip2                     1.0.6                    vc14_1  [vc14]  conda-forge\n",
      "ca-certificates           2018.10.15           ha4d7672_0    conda-forge\n",
      "cachecontrol              0.12.3           py36hfe50d7b_0  \n",
      "certifi                   2018.10.15            py36_1000    conda-forge\n",
      "cffi                      1.10.0           py36hae3d1b5_1  \n",
      "chardet                   3.0.4            py36h420ce6e_1  \n",
      "click                     6.7              py36hec8c647_0  \n",
      "cloudpickle               0.4.0            py36h639d8dc_0  \n",
      "clyent                    1.2.2            py36hb10d595_1  \n",
      "colorama                  0.3.9            py36h029ae33_0  \n",
      "comtypes                  1.1.2            py36heb9b3d1_0  \n",
      "conda                     4.5.11                py36_1000    conda-forge\n",
      "conda-build               3.0.27           py36h309a530_0  \n",
      "conda-env                 2.6.0                         1    conda-forge\n",
      "conda-verify              2.0.0            py36h065de53_0  \n",
      "console_shortcut          0.1.1                h6bb2dd7_3  \n",
      "contextlib2               0.5.5            py36he5d52c0_0  \n",
      "cookiecutter              1.6.0                 py36_1000    conda-forge\n",
      "cryptography              2.0.3            py36h123decb_1  \n",
      "curl                      7.49.1                   vc14_2  [vc14]  conda-forge\n",
      "cycler                    0.10.0           py36h009560c_0  \n",
      "cython                    0.26.1           py36h18049ac_0  \n",
      "cytoolz                   0.8.2            py36h547e66e_0  \n",
      "dask                      0.15.3           py36h396fcb9_0  \n",
      "dask-core                 0.15.3           py36hd651449_0  \n",
      "datashape                 0.5.4            py36h5770b85_0  \n",
      "decorator                 4.1.2            py36he63a57b_0  \n",
      "distlib                   0.2.5            py36h51371be_0  \n",
      "distributed               1.19.1           py36h8504682_0  \n",
      "docutils                  0.14             py36h6012d8f_0  \n",
      "entrypoints               0.2.3            py36hfd66bb0_2  \n",
      "et_xmlfile                1.0.1            py36h3d2d736_0  \n",
      "fastcache                 1.0.2            py36hffdae1b_0  \n",
      "filelock                  2.0.12           py36hd7ddd41_0  \n",
      "flask                     0.12.2           py36h98b5e8f_0  \n",
      "flask-cors                3.0.3            py36h8a3855d_0  \n",
      "freetype                  2.8.1                    vc14_0  [vc14]  conda-forge\n",
      "future                    0.17.0                py36_1000    conda-forge\n",
      "get_terminal_size         1.0.0                h38e98db_0  \n",
      "gevent                    1.2.2            py36h342a76c_0  \n",
      "glob2                     0.5              py36h11cc1bd_1  \n",
      "greenlet                  0.4.12           py36ha00ad21_0  \n",
      "h5py                      2.7.0            py36hfbe0a52_1  \n",
      "hdf5                      1.10.2                   vc14_0  [vc14]  conda-forge\n",
      "heapdict                  1.0.0            py36h21fa5f4_0  \n",
      "html5lib                  0.999999999      py36ha09b1f3_0  \n",
      "icc_rt                    2017.0.4             h97af966_0  \n",
      "icu                       58.2                     vc14_0  [vc14]  conda-forge\n",
      "idna                      2.6              py36h148d497_1  \n",
      "imageio                   2.2.0            py36had6c2d2_0  \n",
      "imagesize                 0.7.1            py36he29f638_0  \n",
      "intel-openmp              2018.0.0             hcd89f80_7  \n",
      "ipykernel                 4.6.1            py36hbb77b34_0  \n",
      "ipython                   6.1.0            py36h236ecc8_1  \n",
      "ipython_genutils          0.2.0            py36h3c5d0ee_0  \n",
      "ipywidgets                7.0.0            py36h2e74ada_0  \n",
      "isort                     4.2.15           py36h6198cc5_0  \n",
      "itsdangerous              0.24             py36hb6c5a24_1  \n",
      "jdcal                     1.3              py36h64a5255_0  \n",
      "jedi                      0.10.2           py36hed927a0_0  \n",
      "jinja2                    2.9.6            py36h10aa3a0_1  \n",
      "jinja2-time               0.2.0                      py_2    conda-forge\n",
      "jmespath                  0.9.3                     <pip>\n",
      "jpeg                      9b                       vc14_2  [vc14]  conda-forge\n",
      "jsonschema                2.6.0            py36h7636477_0  \n",
      "jupyter                   1.0.0            py36h422fd7e_2  \n",
      "jupyter_client            5.1.0            py36h9902a9a_0  \n",
      "jupyter_console           5.2.0            py36h6d89b47_1  \n",
      "jupyter_core              4.3.0            py36h511e818_0  \n",
      "jupyterlab                0.27.0           py36h34cc53b_2  \n",
      "jupyterlab_launcher       0.4.0            py36h22c3ccf_0  \n",
      "lazy-object-proxy         1.3.1            py36hd1c21d2_0  \n",
      "libiconv                  1.14                     vc14_4  [vc14]  conda-forge\n",
      "libpng                    1.6.34                   vc14_0  [vc14]  conda-forge\n",
      "libssh2                   1.7.0                    vc14_1  [vc14]  conda-forge\n",
      "libtiff                   4.0.9                    vc14_0  [vc14]  conda-forge\n",
      "libxml2                   2.9.5                    vc14_1  [vc14]  conda-forge\n",
      "libxslt                   1.1.32                   vc14_0  [vc14]  conda-forge\n",
      "llvmlite                  0.20.0                   py36_0  \n",
      "locket                    0.2.0            py36hfed976d_1  \n",
      "lockfile                  0.12.2           py36h0468280_0  \n",
      "lxml                      4.1.0            py36h0dcd83c_0  \n",
      "lzo                       2.10                     vc14_0  [vc14]  conda-forge\n",
      "macholib                  1.11                       py_0    conda-forge\n",
      "markupsafe                1.0              py36h0e26971_1  \n",
      "matplotlib                2.1.0            py36h11b4b9c_0  \n",
      "mccabe                    0.6.1            py36hb41005a_1  \n",
      "menuinst                  1.4.10           py36h42196fb_0  \n",
      "mistune                   0.7.4            py36h4874169_0  \n",
      "mkl                       2018.0.0             h36b65af_4  \n",
      "mkl-service               1.1.2            py36h57e144c_4  \n",
      "mpmath                    0.19             py36he326802_2  \n",
      "msgpack-python            0.4.8            py36h58b1e9d_0  \n",
      "multipledispatch          0.4.9            py36he44c36e_0  \n",
      "navigator-updater         0.1.0            py36h8a7b86b_0  \n",
      "nbconvert                 5.3.1            py36h8dc0fde_0  \n",
      "nbformat                  4.4.0            py36h3a5bc1b_0  \n",
      "networkx                  2.0              py36hff991e3_0  \n",
      "nltk                      3.2.4            py36hd0e0a39_0  \n",
      "nose                      1.3.7            py36h1c3779e_2  \n",
      "notebook                  5.0.0            py36hd9fbf6f_2  \n",
      "numba                     0.35.0             np113py36_10  \n",
      "numexpr                   2.6.2            py36h7ca04dc_1  \n",
      "numpy                     1.13.3           py36ha320f96_0  \n",
      "numpydoc                  0.7.0            py36ha25429e_0  \n",
      "odo                       0.5.1            py36h7560279_0  \n",
      "olefile                   0.44             py36h0a7bdd2_0  \n",
      "openpyxl                  2.4.8            py36hf3b77f6_1  \n",
      "openssl                   1.0.2p            hfa6e2cd_1001    conda-forge\n",
      "packaging                 16.8             py36ha0986f6_1  \n",
      "pandas                    0.20.3           py36hce827b7_2  \n",
      "pandoc                    1.19.2.1             hb2460c7_1  \n",
      "pandocfilters             1.4.2            py36h3ef6317_1  \n",
      "partd                     0.3.8            py36hc8e763b_0  \n",
      "path.py                   10.3.1           py36h3dd8b46_0  \n",
      "pathlib2                  2.3.0            py36h7bfb78b_0  \n",
      "patsy                     0.4.1            py36h42cefec_0  \n",
      "pefile                    2018.8.8                   py_0    conda-forge\n",
      "pep8                      1.7.0            py36h0f3d67a_0  \n",
      "pickleshare               0.7.4            py36h9de030f_0  \n",
      "pillow                    4.2.1            py36hdb25ab2_0  \n",
      "pip                       18.1                      <pip>\n",
      "pip                       9.0.1            py36hadba87b_3  \n",
      "pkginfo                   1.4.1            py36hb0f9cfa_1  \n",
      "ply                       3.10             py36h1211beb_0  \n",
      "poyo                      0.4.2                      py_0    conda-forge\n",
      "progress                  1.3              py36hbeca8d3_0  \n",
      "prompt_toolkit            1.0.15           py36h60b8f86_0  \n",
      "psutil                    5.4.0            py36h4e662fb_0  \n",
      "py                        1.4.34           py36ha4aca3a_1  \n",
      "pycodestyle               2.3.1            py36h7cc55cd_0  \n",
      "pycosat                   0.6.3           py36hfa6e2cd_1001    conda-forge\n",
      "pycparser                 2.18             py36hd053e01_1  \n",
      "pycrypto                  2.6.1            py36he68e6e2_1  \n",
      "pycurl                    7.43.0                   py36_1  \n",
      "pyflakes                  1.6.0            py36h0b975d6_0  \n",
      "pygments                  2.2.0            py36hb010967_0  \n",
      "pyinstaller               3.4              py36h7602738_0    conda-forge\n",
      "pylint                    1.7.4            py36ha4e6ded_0  \n",
      "pyodbc                    4.0.17           py36h0006bc2_0  \n",
      "pyopenssl                 17.2.0           py36h15ca2fc_0  \n",
      "pyparsing                 2.2.0            py36h785a196_1  \n",
      "pyqt                      5.6.0            py36hb5ed885_5  \n",
      "pysocks                   1.6.7            py36h698d350_1  \n",
      "pytables                  3.4.2            py36h71138e3_2  \n",
      "pytest                    3.2.1            py36h753b05e_1  \n",
      "python                    3.6.3                h9e2ca53_1  \n",
      "python-dateutil           2.6.1            py36h509ddcb_1  \n",
      "pytz                      2017.2           py36h05d413f_1  \n",
      "pywavelets                0.5.2            py36hc649158_0  \n",
      "pywin32                   221              py36h9c10281_0  \n",
      "pywin32-ctypes            0.2.0                 py36_1000    conda-forge\n",
      "pyyaml                    3.12             py36h1d1928f_1  \n",
      "pyzmq                     16.0.2           py36h38c27d9_2  \n",
      "qt                        5.6.2                    vc14_1  [vc14]  conda-forge\n",
      "qtawesome                 0.4.4            py36h5aa48f6_0  \n",
      "qtconsole                 4.3.1            py36h99a29a9_0  \n",
      "qtpy                      1.3.1            py36hb8717c5_0  \n",
      "requests                  2.18.4           py36h4371aae_1  \n",
      "rope                      0.10.5           py36hcaf5641_0  \n",
      "ruamel_yaml               0.11.14          py36h9b16331_2  \n",
      "s3transfer                0.1.13                    <pip>\n",
      "scikit-image              0.13.0           py36h6dffa3f_1  \n",
      "scikit-learn              0.19.1           py36h53aea1b_0  \n",
      "scipy                     0.19.1           py36h7565378_3  \n",
      "seaborn                   0.8.0            py36h62cb67c_0  \n",
      "selenium                  3.14.1          py36hfa6e2cd_1000    conda-forge\n",
      "setuptools                40.6.2                    <pip>\n",
      "setuptools                36.5.0           py36h65f9e6e_0  \n",
      "simplegeneric             0.8.1            py36heab741f_0  \n",
      "singledispatch            3.4.0.3          py36h17d0c80_0  \n",
      "sip                       4.18.1           py36h9c25514_2  \n",
      "six                       1.11.0           py36h4db2310_1  \n",
      "snowballstemmer           1.2.1            py36h763602f_0  \n",
      "sortedcollections         0.5.3            py36hbefa0ab_0  \n",
      "sortedcontainers          1.5.7            py36ha90ac20_0  \n",
      "sphinx                    1.6.3            py36h9bb690b_0  \n",
      "sphinxcontrib             1.0              py36hbbac3d2_1  \n",
      "sphinxcontrib-websupport  1.0.1            py36hb5e5916_1  \n",
      "spyder                    3.2.4            py36h8845eaa_0  \n",
      "sqlalchemy                1.1.13           py36h5948d12_0  \n",
      "sqlite                    3.22.0                   vc14_0  [vc14]  conda-forge\n",
      "statsmodels               0.8.0            py36h6189b4c_0  \n",
      "sympy                     1.1.1            py36h96708e0_0  \n",
      "tblib                     1.3.2            py36h30f5020_0  \n",
      "testpath                  0.3.1            py36h2698cfe_0  \n",
      "tk                        8.6.8                    vc14_0  [vc14]  conda-forge\n",
      "toolz                     0.8.2            py36he152a52_0  \n",
      "tornado                   4.5.2            py36h57f6048_0  \n",
      "traitlets                 4.3.2            py36h096827d_0  \n",
      "typing                    3.6.2            py36hb035bda_0  \n",
      "unicodecsv                0.14.1           py36h6450c06_0  \n",
      "urllib3                   1.22             py36h276f60a_0  \n",
      "vc                        14                            0    conda-forge\n",
      "voc                       0.1.6                     <pip>\n",
      "vs2015_runtime            14.15.26706          h3a45250_0  \n",
      "wcwidth                   0.1.7            py36h3d5aa90_0  \n",
      "webencodings              0.5.1            py36h67c50ae_1  \n",
      "werkzeug                  0.12.2           py36h866a736_0  \n",
      "wheel                     0.29.0           py36h6ce6cde_1  \n",
      "whichcraft                0.5.2                      py_1    conda-forge\n",
      "widgetsnbextension        3.0.2            py36h364476f_1  \n",
      "win_inet_pton             1.0.1            py36he67d7fd_1  \n",
      "win_unicode_console       0.5              py36hcdbd4b5_0  \n",
      "wincertstore              0.2              py36h7fe50ca_0  \n",
      "wrapt                     1.10.11          py36he5f5981_0  \n",
      "xlrd                      1.1.0            py36h1cb58dc_1  \n",
      "xlsxwriter                1.0.2            py36hf723b7d_0  \n",
      "xlwings                   0.11.4           py36hd3cf94d_0  \n",
      "xlwt                      1.3.0            py36h1a4751e_0  \n",
      "yaml                      0.1.7                    vc14_0  [vc14]  conda-forge\n",
      "zict                      0.1.3            py36h2d8e73e_0  \n",
      "zlib                      1.2.11                   vc14_0  [vc14]  conda-forge\n"
     ]
    }
   ],
   "source": [
    "!conda list"
   ]
  },
  {
   "cell_type": "markdown",
   "metadata": {},
   "source": [
    "# Top Of The File - *Importing Packges*\n",
    "-------\n",
    "\n",
    "## Methods Of Importing\n",
    "\n",
    "There are many ways to import packages into the python file.  Each programmer has a different preferred method and no one way is incorrect, but there are different use cases for the different methods which will be explained below.\n",
    "\n",
    "Importing a package actually executes the file that is imported from top to bottom which causes all of the functions and variables of that package to be defined and created.  The different importing techniques involve the method in which you will be able to refer to these functions and variables syntactically within the file.  The two main types of importing are:\n",
    "\n",
    "* Package level import\n",
    "* Sub-package specific import\n",
    "\n",
    "And with both of these styles of import, there are two additional features that are commonly used:\n",
    "\n",
    "* Package renaming\n",
    "* Wildcard importing\n",
    "\n",
    "### Package level import\n",
    "\n",
    "`import os`\n",
    "\n",
    "This simple import method will allow you to reference the functions of the os module by dereferencing the os module directly.\n"
   ]
  },
  {
   "cell_type": "code",
   "execution_count": 2,
   "metadata": {},
   "outputs": [
    {
     "data": {
      "text/plain": [
       "'C:\\\\Users\\\\keaglma'"
      ]
     },
     "execution_count": 2,
     "metadata": {},
     "output_type": "execute_result"
    }
   ],
   "source": [
    "import os\n",
    "user_name = 'keaglma'\n",
    "folder_name = os.path.join(r'C:\\Users', user_name)\n",
    "folder_name"
   ]
  },
  {
   "cell_type": "markdown",
   "metadata": {},
   "source": [
    "This method is the most explicit way to import packages as you will have to fully qualify the function name by starting with the package with whicih you are importing.  You will also be able to access all sub-packages that are made available by the os module without explicitly importing them.  This makes the code very easy to interpret in the sense of understanding where the package came from, but the functions can be nested very deep within a package.  "
   ]
  },
  {
   "cell_type": "markdown",
   "metadata": {},
   "source": [
    "import matplotlib.pyplot\n",
    "matplotlib.pyplot.plot([1, 2, 3, 4])   # matplotlib.pyplot will be repeated for each acces to the matplotlib package\n",
    "matplotlib.pyplot.show()"
   ]
  },
  {
   "cell_type": "markdown",
   "metadata": {},
   "source": [
    "## Sub-package specific import \n",
    "\n",
    "If you know the name of the sub-package or function that you would like to import, you can directly import that package whihc will allow you to reference that function by name directly."
   ]
  },
  {
   "cell_type": "code",
   "execution_count": 3,
   "metadata": {},
   "outputs": [
    {
     "data": {
      "image/png": "[encoded data removed]",
      "text/plain": [
       "<matplotlib.figure.Figure at 0x190af4fd438>"
      ]
     },
     "metadata": {},
     "output_type": "display_data"
    }
   ],
   "source": [
    "from matplotlib import pyplot\n",
    "\n",
    "pyplot.plot([1, 2, 3, 4])\n",
    "pyplot.show()"
   ]
  },
  {
   "cell_type": "markdown",
   "metadata": {},
   "source": [
    "You can also import down to the individual functions and provide the functions that will be imported as a comma separated list"
   ]
  },
  {
   "cell_type": "code",
   "execution_count": 4,
   "metadata": {},
   "outputs": [
    {
     "data": {
      "image/png": "[encoded data removed]",
      "text/plain": [
       "<matplotlib.figure.Figure at 0x190b0722438>"
      ]
     },
     "metadata": {},
     "output_type": "display_data"
    }
   ],
   "source": [
    "from matplotlib.pyplot import plot, show\n",
    "plot([1, 2, 3, 4])\n",
    "show()"
   ]
  },
  {
   "cell_type": "markdown",
   "metadata": {},
   "source": [
    "This method of importing is very common and provides a simplified syntax in the body of the code.  The only downside is that you would not be able to import the function named plot from two different packages as they would have a name conflict in the file.  Also, if you needed a large amount of functions from a package, the list could grow significantly and be hard to maintain."
   ]
  },
  {
   "cell_type": "markdown",
   "metadata": {},
   "source": [
    "## Package renaming\n",
    "\n",
    "In all methods of importing, the packages imported can be renamed for ease of use or to avoid name conflicts in the file.  This is done simply with the `as` keyword.  Two very common naming conventions you will see in code posted online are shown below."
   ]
  },
  {
   "cell_type": "code",
   "execution_count": 5,
   "metadata": {},
   "outputs": [
    {
     "data": {
      "image/png": "[encoded data removed]",
      "text/plain": [
       "<matplotlib.figure.Figure at 0x190b0976438>"
      ]
     },
     "metadata": {},
     "output_type": "display_data"
    }
   ],
   "source": [
    "from matplotlib import pyplot as plt\n",
    "import numpy as np\n",
    "\n",
    "plt.plot(np.array([1, 2, 3]))\n",
    "plt.show()"
   ]
  },
  {
   "cell_type": "markdown",
   "metadata": {},
   "source": [
    "## Wildcard importing\n",
    "\n",
    "Another feature common to all methods of importing in the wildcard import.  If you dont know all of the features that are required in your file or you simply want to include all features of a package without having to index at the package level, you can import all features of a package or subpackage with the `*` symbol. \n",
    "\n",
    "With this great power comes great responsibility and it is not recommended for code that will be shared or maintained for a long time.  When you import with the * character you dont know all of the names that are being imported and the likelihood for overlap between packages increases greatly."
   ]
  },
  {
   "cell_type": "code",
   "execution_count": 6,
   "metadata": {},
   "outputs": [
    {
     "data": {
      "image/png": "[encoded data removed]",
      "text/plain": [
       "<matplotlib.figure.Figure at 0x190b09dce80>"
      ]
     },
     "metadata": {},
     "output_type": "display_data"
    }
   ],
   "source": [
    "from matplotlib.pyplot import *\n",
    "\n",
    "plot([1, 2, 3, 4], label='Simple line')\n",
    "xlabel('x-axis')\n",
    "ylabel('y-axis')\n",
    "title('Simple line plot')\n",
    "legend()\n",
    "show()"
   ]
  },
  {
   "cell_type": "markdown",
   "metadata": {},
   "source": [
    "# Middle of the file - *variables, functions, classes*\n",
    "--------\n",
    "\n",
    "The middle of the file will vary quite a bit depending on if the file is architected to be imported by other files or is to simply be run as a script.  This is very similar to Matlab where you will have a function file and a script file, however you can still execute a file that can be imported directly.  We will cover this when we discuss the bottom of the file.\n",
    "\n",
    "As in most languages, a function/class/variable must be declared above where it is being referenced.  For this reason, you should include definitions of all functions and package global variables in the beginning of this section, regardless if this file is a package to be imported or a script.  A simple set of functions with calls to those functions is shown below, which would demonstrate the use of this file as a script.\n",
    "\n",
    "Below we will go over some of the high-level syntax of a python file so you can hopefully identify where to look in a file for code. Later we will go over in detail each of these components, but hopefully with this quick overview, the contents of a Python file can be understood to fit in a few categories.\n",
    "\n",
    "* Whitespace\n",
    "* PEP-8\n",
    "* Example script\n",
    "* Variables\n",
    "* Classes\n",
    "* Functions\n",
    "* Doc-strings\n",
    "* Comments"
   ]
  },
  {
   "cell_type": "markdown",
   "metadata": {},
   "source": [
    "### Whitespace\n",
    "\n",
    "Python scoping is defined by whitespace.  This means that in order to determine what code is executed in a `for`, `while`, or any other code block, you need to look at the commonly indented lines of code below.  To end a loop, simply type the next line of code at one less level of indentation.\n",
    "\n",
    "This is often one of the hardest initial adjustments visually to get used to in Python and at first seems like a limitation.  However, as you get used to the indentation, you will found that this simple format makes code extremely readable and removes the unnecessary clutter of parenthesis and end statements.  Also, you will never have to guess what scope a piece of code is within at the bottom of a function.\n",
    "\n",
    "***NOTE:*** There is no enforced rule for the number of spaces for indenting or whether or not a tab is used instead of spaces.  However, once  you use one method of indentation inside a file,  you cannot change it.  If you start with tabs and then later use an equivalent number of spaces, the Python code will not run and give you a syntax error.  Most development environments will handle this automatically and convert tabs to spaces for you."
   ]
  },
  {
   "cell_type": "code",
   "execution_count": 7,
   "metadata": {},
   "outputs": [
    {
     "name": "stdout",
     "output_type": "stream",
     "text": [
      "Looking at loop variable item1\n",
      "I found item 2\n",
      "Looking at loop variable item2\n",
      "Looking at loop variable item3\n"
     ]
    }
   ],
   "source": [
    "loop_variable = ['item1', 'item2', 'item3']\n",
    "\n",
    "for top_level in loop_variable:\n",
    "    # This is code inside the for loop\n",
    "    if top_level == 'item2':\n",
    "        # This is code for the if statement\n",
    "        print('I found item 2')\n",
    "    # end of the if block\n",
    "    \n",
    "    print('Looking at loop variable {}'.format(top_level))\n",
    "\n",
    "# I am now outside the for loop"
   ]
  },
  {
   "cell_type": "code",
   "execution_count": 8,
   "metadata": {},
   "outputs": [
    {
     "ename": "IndentationError",
     "evalue": "unindent does not match any outer indentation level (<tokenize>, line 8)",
     "output_type": "error",
     "traceback": [
      "\u001b[1;36m  File \u001b[1;32m\"<tokenize>\"\u001b[1;36m, line \u001b[1;32m8\u001b[0m\n\u001b[1;33m    testing = 'This will fail because of incorrect indentation'\u001b[0m\n\u001b[1;37m    ^\u001b[0m\n\u001b[1;31mIndentationError\u001b[0m\u001b[1;31m:\u001b[0m unindent does not match any outer indentation level\n"
     ]
    }
   ],
   "source": [
    "variable = 'value'\n",
    "\n",
    "if variable == 'value':\n",
    "    print('Hello world')\n",
    "\n",
    "if variable is 'value':\n",
    "    print('This is wrong because it is spaces')\n",
    "   testing = 'This will fail because of incorrect indentation'"
   ]
  },
  {
   "cell_type": "markdown",
   "metadata": {},
   "source": [
    "### PEP-8\n",
    "\n",
    "Python does not actually enforce any variable naming conventions or documentation styles but the Python community did agree on a specific syntax and format guide that has stood the test of time and is generally adhered to.  This may seem like a limitation but in fact causes all Python programs to be extremely readable and familiar even when developed by different people.  I see this as a crucial advantage to the language and one which has made the language more approachable to beginners to programming and Python.\n",
    "\n",
    "The standard is defined in Python Enhancement Proposal 8 [PEP-8](https://www.python.org/dev/peps/pep-0008/#function-and-variable-names).  PEP's are how the Python language gets modified and enhanced over time and all can be read online and reviewed.\n",
    "\n",
    "There are many \"linters\" which will review your code and tell you where you are violating PEP-8 or any modified version of a style guide. \n",
    "\n",
    "* [flake8](http://flake8.pycqa.org/en/latest/)\n",
    "* [pylint](https://www.pylint.org/)\n",
    "\n",
    "Most of the IDE's in common use integrate one of the linter tools to assess your adherence to PEP-8 while coding.\n"
   ]
  },
  {
   "cell_type": "markdown",
   "metadata": {},
   "source": [
    "### Example Script"
   ]
  },
  {
   "cell_type": "code",
   "execution_count": null,
   "metadata": {
    "collapsed": true
   },
   "outputs": [],
   "source": [
    "# Global variables that can be used in this file/package\n",
    "# These pring globals are often good for enabling/disabling debugging outputs\n",
    "ENABLE_PRINTING = True\n",
    "SEARCH_STRING = 'app'\n",
    "\n",
    "# Simple class definition so you know what it looks like\n",
    "class SimpleClass():\n",
    "    '''\n",
    "    I am a doc-string\n",
    "    Docstrings have a specific meaning and are the first line after a class\n",
    "    declaration or function declaration.  The triple quote is used and anything\n",
    "    between the triple quotes is included.  This docstring is actually stored\n",
    "    with the class/function and can be accessed in the code and is often used\n",
    "    for automatic documentation tools such as sphinx.\n",
    "    '''\n",
    "    pass\n",
    "\n",
    "# Create an instance of that class\n",
    "unused_class = SimpleClass()\n",
    "\n",
    "# definied function that can be used below this definition\n",
    "def inspect_string(input_string=''):\n",
    "    str_found = input_string.find(SEARCH_STRING)\n",
    "    if ENABLE_PRINTING:\n",
    "        print('String found output is {}'.format(str_found))\n",
    "    return str_found == 0\n",
    "\n",
    "# Start of the script defining variables and calling functions\n",
    "list_of_strings = ['testing',\n",
    "                   'test',\n",
    "                   'tst',\n",
    "                   'apple']\n",
    "\n",
    "# Using the module variable to control execution\n",
    "if ENABLE_PRINTING:\n",
    "    print('Searching for {} in input list: {}'.format(SEARCH_STRING,\n",
    "                                                      list_of_strings))\n",
    "\n",
    "# Setting an empty list\n",
    "output_list = []\n",
    "\n",
    "# Loop over input list, if string is found, add to output list\n",
    "for string in list_of_strings:\n",
    "    if inspect_string(string):\n",
    "        output_list.append(string)\n",
    "    \n",
    "# If printing is enabled, display the find\n",
    "if ENABLE_PRINTING:\n",
    "    print('Output list: {}'.format(output_list))\n",
    "    "
   ]
  },
  {
   "cell_type": "markdown",
   "metadata": {},
   "source": [
    "### Variables\n",
    "\n",
    "Variables are exactly the same as matlab in terms of syntax and assignment.\n",
    "\n",
    "Variables that are to be global for use in a file/module use the `UPPER_CASE_WITH_UNDERSCORES` syntax.\n",
    "\n",
    "Variables that are local in scope use the `lower_case_with_underscores` syntax."
   ]
  },
  {
   "cell_type": "code",
   "execution_count": null,
   "metadata": {
    "collapsed": true
   },
   "outputs": [],
   "source": [
    "ENABLE_PRINTING = True\n",
    "\n",
    "if ENABLE_PRINTING:\n",
    "    i_will_print = True\n",
    "else:\n",
    "    i_will_print = False"
   ]
  },
  {
   "cell_type": "markdown",
   "metadata": {},
   "source": [
    "### Classes\n",
    "\n",
    "Python fully supports the object-oriented programming model and classes are first-class objects <https://en.wikipedia.org/wiki/First-class_citizen>.  This is a nerdy computer science term but it basically means that classes (and functions) are treated uniformly throughout the language and can be treated like a variable or returned from a function.  You will see classes used much more commonly in Python than in Matlab, however, you can go through very complicated programs in Python and never see a class utilized.\n",
    "\n",
    "Overall, they are there and very powerful, and allow for all of the most complicated design patterns in computer science, but can be ignored if a simple script is all that is required.\n",
    "\n",
    "To get Matlab style structure accessing (dot notation) `test.val1 = 2`, a class is most commonly used and thats where you will most likely see them used in the data-science world.  Named-tuples which I wont elaborate on here are another method that is more directly synonymous with Matlab structures.\n",
    "\n",
    "Classes are also supposed to be in [CamelCase](https://en.wikipedia.org/wiki/Camel_case) syntax according to [PEP8](https://www.python.org/dev/peps/pep-0008/).\n",
    "\n",
    "Below is what you might see if you were to make a class that allowed you to access and set a field that you declared (`member_variable`)."
   ]
  },
  {
   "cell_type": "code",
   "execution_count": null,
   "metadata": {
    "collapsed": true
   },
   "outputs": [],
   "source": [
    "# Class example\n",
    "class IAmAClass():\n",
    "    def __init__(self,\n",
    "                 input_variable='default value'):\n",
    "        '''\n",
    "        This is the constructor\n",
    "        '''\n",
    "        self.member_variable = input_variable\n",
    "        \n",
    "instance_of_the_class = IAmAClass(input_variable='instantiated value')\n",
    "print(instance_of_the_class.member_variable)\n",
    "instance_of_the_class.member_variable = 'changed value'\n",
    "print(instance_of_the_class.member_variable)"
   ]
  },
  {
   "cell_type": "markdown",
   "metadata": {},
   "source": [
    "## Functions\n",
    "\n",
    "Functions are also first class objects in Python (unlike Matlab).  They are defined simply with the `def` keyword.  The return values are not declared at the top of the function and therefore the only way to truly know what is going to be returned is by looking at the return statements inside the function.  This also means that a function could possibly return different values depending on the the input.\n",
    "\n",
    "A function can only return ***one*** item!  That one item can be a list/tuple/dict/set which in turn contains multiple items, but fundamentally the limit is one object.\n",
    "\n",
    "Python functions (like variables) are supposed to be in the `lower_case_with_underscores` syntax.\n",
    "\n",
    "***NOTE:*** One thing to note about functions which is different than matlab is that functions are called with the `()` syntax.  If you see that syntax you know you are accessing a function and not indexing a variable.  Variable slicing is done with `[]` instead of `()`"
   ]
  },
  {
   "cell_type": "code",
   "execution_count": null,
   "metadata": {
    "collapsed": true
   },
   "outputs": [],
   "source": [
    "def i_am_a_simple_function(input_variable='default value'):\n",
    "    '''\n",
    "    Print the number of words in a string\n",
    "    '''\n",
    "    return len(input_variable.split())\n",
    "\n",
    "def i_return_a_list(input_variable='default value'):\n",
    "    '''\n",
    "    Return a list of the words and the length\n",
    "    '''\n",
    "    return [input_variable.split(), i_am_a_simple_function(input_variable)]\n",
    "\n",
    "output = i_am_a_simple_function('there are four words')\n",
    "print(output)\n",
    "\n",
    "words, length_of_words = i_return_a_list('there are three')\n",
    "print('I returned two things:{}, {}'.format(words,\n",
    "                                            length_of_words))"
   ]
  },
  {
   "cell_type": "markdown",
   "metadata": {},
   "source": [
    "### Doc-string\n",
    "\n",
    "Below is just proof that the doc-string is stored along with the class.  Doc-strings are expected by linters (programs that check for correct syntax) and are a great standardized way to provide information about the function or class that is being created.\n",
    "\n",
    "If you are using [Sphinx](http://www.sphinx-doc.org/en/master/) to automatically document the code, it uses multiple different formats but is based on [Re-structured Text (rst)](http://docutils.sourceforge.net/rst.html)"
   ]
  },
  {
   "cell_type": "code",
   "execution_count": null,
   "metadata": {
    "collapsed": true
   },
   "outputs": [],
   "source": [
    "unused_class.__doc__"
   ]
  },
  {
   "cell_type": "markdown",
   "metadata": {},
   "source": [
    "### Comments\n",
    "\n",
    "Comments are made with the `#` character and are one line comments.  Typically they are done above the code to be commented in a separate line."
   ]
  },
  {
   "cell_type": "code",
   "execution_count": null,
   "metadata": {
    "collapsed": true
   },
   "outputs": [],
   "source": [
    "#This code doesnt really need a comment\n",
    "print('Obviously I print something')"
   ]
  },
  {
   "cell_type": "markdown",
   "metadata": {},
   "source": [
    "# End Of A File - *The `__main__` function* (optional)\n",
    "------\n",
    "\n",
    "## Adding a `__main__` function\n",
    "\n",
    "You will often see a statement at the end of a Python file that looks like this:\n",
    "\n",
    "`if __name__ == '__main__':`\n",
    "\n",
    "This is notionally equivalent to the C/C++ `int main(){}` statement and indicates code that will run as the \"entry-point\" for the file.\n",
    "\n",
    "Now, this does not actually mean that this code will run first.  This statement will only execute this code if the python file itself was the one run from the command line.  It is actually comparing the `__name__` variable for the file (which is the name of the module for the file) to the string `'__main__'` which is only true if the file was executed from the command line and **not** if the code is being imported.\n",
    "\n",
    "The reason this is used is if you create a function that is in a file and you want to use it in another python file, you will need to import that function at the top of the other file.  When you do that import, all of the code will be executed in the python file with the function, included specific tasks that you probably don't want executed when you import it.  To protect against this, code that you want executed only when running this file is put in the `if __name__ == '__main__':` block of code.\n",
    "\n",
    "Often times you will find test code used to call the functions in here if a specific unit test has not been written.\n",
    "\n",
    "If the code is only ever intended to be run as a script, then no main block is needed.\n",
    "\n",
    "In the code below, if you were to import the file that contains this code, the variable `<file_name>.code_out_of_main` would be `'test'`, but the snippet below executes and prints `'in_main'`\n"
   ]
  },
  {
   "cell_type": "code",
   "execution_count": null,
   "metadata": {
    "collapsed": true
   },
   "outputs": [],
   "source": [
    "code_out_of_main = 'test'\n",
    "\n",
    "if __name__ == '__main__':\n",
    "    code_out_of_main = 'in_main'\n",
    "    print(code_out_of_main)"
   ]
  }
 ],
 "metadata": {
  "kernelspec": {
   "display_name": "Python 3",
   "language": "python",
   "name": "python3"
  },
  "language_info": {
   "codemirror_mode": {
    "name": "ipython",
    "version": 3
   },
   "file_extension": ".py",
   "mimetype": "text/x-python",
   "name": "python",
   "nbconvert_exporter": "python",
   "pygments_lexer": "ipython3",
   "version": "3.6.3"
  }
 },
 "nbformat": 4,
 "nbformat_minor": 2
}
